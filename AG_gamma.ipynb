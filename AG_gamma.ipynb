{
 "cells": [
  {
   "cell_type": "markdown",
   "id": "8e4186b6",
   "metadata": {},
   "source": [
    "# Modelo Gaussiano Acotado"
   ]
  },
  {
   "cell_type": "code",
   "execution_count": 1,
   "id": "265eaa27",
   "metadata": {},
   "outputs": [],
   "source": [
    "#from numba import jit, cuda"
   ]
  },
  {
   "cell_type": "code",
   "execution_count": null,
   "id": "53816521-a1ba-4b6c-9e85-1fa105d56711",
   "metadata": {},
   "outputs": [],
   "source": [
    "from numba import jit, cuda\n",
    "from timeit import default_timer as timer\n",
    "import time\n",
    "import numpy as np\n",
    "import random\n",
    "from numpy.random import default_rng\n",
    "import pandas as pd\n",
    "%matplotlib inline\n",
    "import matplotlib.pyplot as plt\n",
    "import torch"
   ]
  },
  {
   "cell_type": "code",
   "execution_count": null,
   "id": "18923179-cc4b-46fa-986d-33ff1cf62e1a",
   "metadata": {},
   "outputs": [],
   "source": []
  },
  {
   "cell_type": "code",
   "execution_count": 178,
   "id": "fa86f2b0-dd6b-41f2-8067-e7bc84547c6b",
   "metadata": {},
   "outputs": [
    {
     "name": "stdout",
     "output_type": "stream",
     "text": [
      "119.33 5272.038947200616\n"
     ]
    }
   ],
   "source": [
    "pve =  pd.read_csv(r'variograma_experimental_datoscomp.csv')\n",
    "dc = pd.read_csv(r'datos_completos_palmar_tesis.csv')\n",
    "matriz_distancias = r'matriz_dist_completos_palmar.csv'\n",
    "puntosvariogramaexperimental = pd.read_csv(r'variograma_experimental_datoscomp.csv')\n",
    "vardatos = round(dc['Carga_Hidraulica_c'].std(),2)\n",
    "dmax = 101096.84\n",
    "h=np.linspace(0,50549,5000)\n",
    "sigma_e=np.std(pve.iloc[:,1])\n",
    "\n",
    "print(vardatos,sigma_e)\n",
    "e1=0.9 #Variogram\n",
    "e2=0.05  # Z\n",
    "e3=0.05 # varianza\n",
    "\n",
    "\n",
    "distancias =  pd.read_csv('matriz_dist_completos_palmar.csv')\n",
    "distancias = distancias.to_numpy()\n",
    "distancias = distancias[:,1:]\n",
    "indices=[]\n",
    "indicestotales=np.arange(309)\n",
    "for i in range(309):\n",
    "    ind=distancias[i,:]<12110\n",
    "    indicest=np.where(ind)[0]\n",
    "    indices.append(np.delete(indicestotales,indicest))\n",
    "    indices[i]=np.insert(indices[i],1,i)\n",
    "# [indices.append(i) for i, x in enumerate(indices) if x]\n",
    "dc =  dc.to_numpy()   \n",
    "dc=dc[:,-1]\n",
    "Z = dc\n",
    "Z = Z.reshape(len(Z),1)\n",
    "ZA = np.zeros((len(Z),1))\n",
    "Ve = np.zeros((len (Z),1))"
   ]
  },
  {
   "cell_type": "code",
   "execution_count": 179,
   "id": "4f01592b",
   "metadata": {},
   "outputs": [],
   "source": [
    "# @jit(target_backend='cuda')\n",
    "def calculo_z(distancias,indices,dc,Z,ZA,Ve,h,co,s,a):         \n",
    "    i = 0   \n",
    "    while(i<len(distancias)):\n",
    "        gamma=distancias[:,i]\n",
    "        gamma= np.delete(gamma,indices[i],axis=0)\n",
    "        matriz_reducida = np.delete(distancias,indices[i],axis=0)\n",
    "        matriz_reducida = np.delete(matriz_reducida,indices[i],axis=1)\n",
    "        sz=matriz_reducida.shape[0]\n",
    "        matriz_reducida = co + s*(1-np.exp(-(matriz_reducida**2/a**2)))\n",
    "        matriz_reducida = np.concatenate((matriz_reducida, np.ones((1,sz))), axis = 0)\n",
    "        matriz_reducida = np.concatenate((matriz_reducida, np.ones((sz+1,1))), axis = 1)\n",
    "        matriz_reducida[-1,-1]=0\n",
    "        matriz_reducida[matriz_reducida > s] = s\n",
    "        gamma_l = co + s*(1-np.exp(-(gamma**2/a**2))) \n",
    "        gamma_l[gamma_l > s] = s\n",
    "        gamma = np.c_[gamma_l.reshape(1,sz), 1]\n",
    "        gamma = gamma.T \n",
    "        matriz_reducida = matriz_reducida - np.diag(matriz_reducida) * np.identity(matriz_reducida.shape[0])\n",
    "        M=torch.from_numpy( matriz_reducida)\n",
    "        G=torch.from_numpy(gamma)\n",
    "        Lamda=torch.linalg.solve(M,G)\n",
    "        # A = np.linalg.inv(matriz_reducida)\n",
    "        # Lamda = np.matmul(A,gamma)\n",
    "        \n",
    "        z= np.delete(dc,indices[i],axis=0)\n",
    "        # z= torch.from_numpy(z.astype(float))\n",
    "        b=gamma.T\n",
    "        # bt = torch.from_numpy(gamma.T)\n",
    "        vee = np.matmul(b,Lamda)\n",
    "        # vee= torch.matmul(bt,Lamda)    \n",
    "        Ve[i]=vee\n",
    "        Lamda=Lamda[:-1,:]\n",
    "        Za=np.dot(z,Lamda)\n",
    "        # Za=torch.matmul(z,LamdA[:-1])\n",
    "        ZA[i]= Za\n",
    "        i=i+1       \n",
    "    error = np.sqrt(1/len(Z)*np.sum((Z-ZA)**2)) \n",
    "    error_3 =(1/len(Z))*np.sum(((Z-ZA)**2)/Ve)\n",
    "    return (error,error_3)  "
   ]
  },
  {
   "cell_type": "code",
   "execution_count": 180,
   "id": "2cb56cff",
   "metadata": {},
   "outputs": [],
   "source": [
    "def initial_population(size_population,nbits,num_var, verbose=False): \n",
    "    \"\"\" size_population  = tamaño de la población\n",
    "       nbists = número de bits de la cadena DNA\n",
    "    \"\"\"\n",
    "    individuos=np.zeros((size_population,nbits,num_var))\n",
    "    for i in range(size_population):\n",
    "        for j in range(num_var):\n",
    "            individuos[i,:,j] = [(random.getrandbits(1)) for number in range(1, nbits+1)]\n",
    "            if verbose:\n",
    "                print(\"Individuo \" +str(i+1)+ \" variable \"+str(j) + \":  \" + str(individuos[i,:,j]))     \n",
    "    return (individuos)"
   ]
  },
  {
   "cell_type": "code",
   "execution_count": 181,
   "id": "573d52f0",
   "metadata": {},
   "outputs": [],
   "source": [
    "def binatodeci(binary):\n",
    "    salida=sum(val*(2**idx) for idx, val in enumerate(reversed(binary)))\n",
    "    return salida"
   ]
  },
  {
   "cell_type": "code",
   "execution_count": 182,
   "id": "f603b5c8",
   "metadata": {},
   "outputs": [],
   "source": [
    "def fitness(distancias,indices,dc,Z,ZA,h,individuos,vardatos,dmax,size_population,nbits,num_var,verbose=False): \n",
    "    \"\"\" fx        = función a optimizar\n",
    "       Individuos = población a evaluar\n",
    "       interval   = [max y min]\n",
    "    \"\"\"\n",
    "    fitness_population=np.zeros((size_population,)) \n",
    "    fitness_prob=np.zeros((size_population,)) \n",
    "    max_value=(2**nbits-1)\n",
    "    mini_e=[]\n",
    "    for i in range(size_population):\n",
    "        x=np.zeros((num_var,))\n",
    "        \n",
    "        x[1]=binatodeci(individuos[i,:,1])\n",
    "        x[1]= ((vardatos-0)*x[1])/max_value\n",
    "        x[0]= binatodeci(individuos[i,:,0])\n",
    "        x[0]= ((x[1]-0)*x[0])/max_value\n",
    "        x[2]=binatodeci(individuos[i,:,2])\n",
    "        x[2]= (((dmax/2)-0)*x[2])/max_value\n",
    "        #x[3]= binatodeci(individuos[i,:,3])\n",
    "        #x[3]= x[3]/max_value\n",
    "        #x[4]= binatodeci(individuos[i,:,4])\n",
    "        #x[4] = ((0.2-(0.6*x[3]))/max_value)\n",
    "\n",
    "        est_lag=x[0] + x[1]*(1-np.exp(-(pve.iloc[:,0]**2/x[2]**2)))\n",
    "        error_variogram=np.sqrt(1/len(est_lag)*np.sum((est_lag-pve.iloc[:,1])**2))\n",
    "        error_z,error_variance = calculo_z(distancias,indices,dc,Z,ZA,Ve,h,x[0],x[1],x[2])\n",
    "        error_variance=np.sqrt(np.abs(1-error_variance))\n",
    "        # error_variogram=Error(pve.iloc[:,1],svar(pve.iloc[:,0],x[0],x[1],x[2]))\n",
    "        mini_e.append(error_z)\n",
    "        # print(np.c_[error_variogram/sigma_e, error_z/vardatos,error_variance])\n",
    "        #fitness_population[i]=(x[3]*Error(pve.iloc[:,1],svar(pve.iloc[:,0],x[0],x[1],x[2]))) + ((x[4])*(error_2[0])) + ((1-x[3]-x[4])*(np.abs(1-error_2[1])))\n",
    "        fitness_population[i]=(e1*error_variogram/sigma_e) + (e2*error_z/vardatos) + (e3*error_variance)\n",
    "        if verbose:\n",
    "            print(\"\\n\")\n",
    "            print(\"Individuo \" +str(i+1) +\":  \" + \"   f(x)=\"+ str(fitness_population[i]))\n",
    "            print(\"Pepita: \" +str(x[0]))\n",
    "            print(\"Meseta: \" +str(x[1]))\n",
    "            print(\"Alcance: \" +str(x[2]))\n",
    "        \n",
    "    mini=np.amin(fitness_population)\n",
    "    ind_mini=np.argmin(fitness_population)\n",
    "    thebest_individuo=individuos[ind_mini,:,:]\n",
    "    if verbose:\n",
    "        print(\"el mejor individuo: \" +str(ind_mini+1))\n",
    "        \n",
    "    return fitness_population, thebest_individuo , mini_e"
   ]
  },
  {
   "cell_type": "code",
   "execution_count": 183,
   "id": "550196f9",
   "metadata": {},
   "outputs": [],
   "source": [
    "def selection(fitness_population, individuos,size_population,num_var,selection_method=\"tournament\",verbose=False): \n",
    "    \"\"\" fitness_population  = Evalaución de la población\n",
    "       fitness_prob = Evalaución de la población inversa y normalizada  \n",
    "       metodo_seleccion=\"tournament\"\n",
    "    \"\"\"\n",
    "    selected_population=np.zeros((size_population,nbits,num_var))\n",
    "    if selection_method == \"tournament\":\n",
    "        ind_tournament= [random.randint(0, size_population-1) for i in range(size_population)]\n",
    "        for i,j in zip(range(size_population),ind_tournament):\n",
    "            mini= np.argmin([ fitness_population[i],fitness_population[j]])\n",
    "            if mini==0:\n",
    "                selected_population[i,:,:]=individuos[i,:,:]\n",
    "                sel=i\n",
    "            else:\n",
    "                selected_population[i,:,:]=individuos[j,:,:]\n",
    "                sel=j\n",
    "            if verbose:\n",
    "                [print(\"Individuo seleccionado var \"+ str(ii)+\" : \" + str(selected_population[i,:,ii])) for ii in range(num_var)]\n",
    "\n",
    "                # print(\"Individuo seleccionado:\" +str(np.transpose(selected_population[i,:,:])))    \n",
    "    return selected_population"
   ]
  },
  {
   "cell_type": "code",
   "execution_count": 184,
   "id": "0ffc3386",
   "metadata": {},
   "outputs": [],
   "source": [
    "def crossover(selected_population, individuos,size_population,nbits,num_var,verbose=False): \n",
    "    \"\"\" fitness_population  = Evalaución de la población\n",
    "       fitness_prob = Evalaución de la población inversa y normalizada  \n",
    "       metodo_seleccion=\"tournament\"\n",
    "    \"\"\"\n",
    "    pointC= [random.randint(1, nbits-2) for i in range(size_population)]\n",
    "   \n",
    "    # [print(selected_population[i]) for i in range(size_population)]\n",
    "    i=0\n",
    "    cont_int=0\n",
    "    new_generation=np.zeros((size_population,nbits,num_var))\n",
    "    rng = default_rng()\n",
    "    ind_parents=np.zeros((num_var,2))\n",
    "    parents= np.zeros((2,num_var,nbits))\n",
    "    for j in range(num_var):\n",
    "        ind_parents[j,:] = rng.choice(size_population, size=2, replace=False)\n",
    "        parents[0,j,:]=selected_population[int(ind_parents[j,0]),:,j]\n",
    "        parents[1,j,:]=selected_population[int(ind_parents[j,1]),:,j]\n",
    "    for i in range(size_population):\n",
    "        for j in range(num_var):\n",
    "            new_generation[i,:,j] =np.concatenate((parents[0,j,0:pointC[i]],parents[1,j,pointC[i]:]))\n",
    "\n",
    "    if verbose:\n",
    "        [print(\"Individuo \" + str(i+1)+\" seleccionado var: \"+ str(ii)+\"  \" + str(new_generation[i,:,ii])) for ii in range(num_var)]\n",
    "    i += 1\n",
    "    \n",
    "    individuos=new_generation\n",
    "    \n",
    "    return individuos"
   ]
  },
  {
   "cell_type": "code",
   "execution_count": 185,
   "id": "0ac5c734",
   "metadata": {},
   "outputs": [],
   "source": [
    "def mutation(individuos,size_population,nbits,num_var, prob_mut=0.02, verbose=False): \n",
    "    \"\"\" prob  = probabilidad de mutación debe ser baja\n",
    "    \"\"\"\n",
    "    # [print(individuos[ii]) for ii in range(size_population)]\n",
    "    dat=np.random.uniform(low=0,high=1,size=(size_population,nbits,num_var))<prob_mut\n",
    "    x,y,z=np.where(dat)\n",
    "    n_mut= len(x)\n",
    "    for i,j,k in zip(x,y,z):\n",
    "        individuos[i,j,k]=1-individuos[i,j,k]\n",
    "            \n",
    "    if verbose:\n",
    "        print(\"numbers of mutated bits: \" + str(n_mut))\n",
    "    return individuos"
   ]
  },
  {
   "cell_type": "code",
   "execution_count": 186,
   "id": "838a3966-11cd-455b-95b0-813e12484a8a",
   "metadata": {
    "scrolled": true
   },
   "outputs": [
    {
     "name": "stdout",
     "output_type": "stream",
     "text": [
      "iteracion:     0\n",
      "iteracion:     1\n",
      "iteracion:     2\n",
      "iteracion:     3\n",
      "iteracion:     4\n",
      "iteracion:     5\n",
      "iteracion:     6\n",
      "iteracion:     7\n",
      "iteracion:     8\n",
      "iteracion:     9\n",
      "Elapsed (with compilation) = 21.829807099999925s\n",
      "10014.150446731146 32.555725402019185 9.341773194405897\n"
     ]
    }
   ],
   "source": [
    "size_population=16\n",
    "nbits=12\n",
    "individuos=initial_population(size_population,nbits,num_var=3,verbose=False)\n",
    "history=[]\n",
    "history_z=[]\n",
    "start = time.perf_counter()\n",
    "\n",
    "for ite in range(10):\n",
    "    fitness_population,thebest_individuo,err_z=fitness(distancias,indices,dc,Z,ZA,h,individuos,vardatos,dmax,size_population,nbits,num_var=3,verbose=False)\n",
    "    ind_mini=np.argmin(fitness_population)\n",
    "    history.append(fitness_population[ind_mini])\n",
    "    history_z.append(err_z[ind_mini])\n",
    "    selected_population=selection(fitness_population, individuos,size_population,num_var=3,selection_method=\"tournament\",verbose=False)\n",
    "    individuos=crossover(selected_population, individuos,size_population,nbits,num_var=3,verbose=False)\n",
    "    individuos=mutation(individuos,size_population,nbits,num_var=3, prob_mut=0.02, verbose=False)\n",
    "    individuos[0,:,:]=thebest_individuo\n",
    "    print('iteracion: %5.0f'%ite)\n",
    "end = time.perf_counter()\n",
    "print(\"Elapsed (with compilation) = {}s\".format((end - start)))\n",
    "fitness_population,thebest_individuo,err_z=fitness(distancias,indices,dc,Z,ZA,h,individuos,vardatos,dmax,size_population,nbits,num_var=3,verbose=False)\n",
    "ind_mini=np.argmin(fitness_population)\n",
    "max_value=(2**nbits-1)\n",
    "history1=history\n",
    "history_z1=history\n",
    "x=np.zeros((3,))\n",
    "x[1]=binatodeci(individuos[ind_mini,:,1])\n",
    "x[1]= ((vardatos-0)*x[1])/max_value\n",
    "x[0]= binatodeci(individuos[ind_mini,:,0])\n",
    "x[0]= ((x[1]-0)*x[0])/max_value\n",
    "x[2]=binatodeci(individuos[ind_mini,:,2])\n",
    "x[2]= (((dmax/2)-0)*x[2])/max_value\n",
    "xr=x\n",
    "est_lag=x[0] + x[1]*(1-np.exp(-(pve.iloc[:,0]**2/x[2]**2)))\n",
    "error_variogram=np.sqrt(1/len(est_lag)*np.sum((est_lag-pve.iloc[:,1])**2))\n",
    "error_z,error_variance = calculo_z(distancias,indices,dc,Z,ZA,Ve,h,x[0],x[1],x[2])\n",
    "print(error_variogram,error_z,error_variance)"
   ]
  },
  {
   "cell_type": "code",
   "execution_count": null,
   "id": "51afea11-8031-48cd-84a3-ac976e5f430c",
   "metadata": {
    "scrolled": true
   },
   "outputs": [],
   "source": [
    "start = time.perf_counter()\n",
    "\n",
    "for ite in range(100):\n",
    "    fitness_population,thebest_individuo,err_z=fitness(distancias,indices,dc,Z,ZA,h,individuos,vardatos,dmax,size_population,nbits,num_var=3,verbose=False)\n",
    "    ind_mini=np.argmin(fitness_population)\n",
    "    history.append(fitness_population[ind_mini])\n",
    "    history_z.append(err_z[ind_mini])\n",
    "    selected_population=selection(fitness_population, individuos,size_population,num_var=3,selection_method=\"tournament\",verbose=False)\n",
    "    individuos=crossover(selected_population, individuos,size_population,nbits,num_var=3,verbose=False)\n",
    "    individuos=mutation(individuos,size_population,nbits,num_var=3, prob_mut=0.02, verbose=False)\n",
    "    individuos[0,:,:]=thebest_individuo\n",
    "    print('iteracion: %5.0f'%ite)\n",
    "end = time.perf_counter()\n",
    "print(\"Elapsed (with compilation) = {}s\".format((end - start)))\n",
    "fitness_population,thebest_individuo,err_z=fitness(distancias,indices,dc,Z,ZA,h,individuos,vardatos,dmax,size_population,nbits,num_var=3,verbose=False)\n",
    "ind_mini=np.argmin(fitness_population)\n",
    "\n",
    "max_value=(2**nbits-1)\n",
    "x=np.zeros((3,))\n",
    "x[1]=binatodeci(individuos[ind_mini,:,1])\n",
    "x[1]= ((vardatos-0)*x[1])/max_value\n",
    "x[0]= binatodeci(individuos[ind_mini,:,0])\n",
    "x[0]= ((x[1]-0)*x[0])/max_value\n",
    "x[2]=binatodeci(individuos[ind_mini,:,2])\n",
    "x[2]= (((dmax/2)-0)*x[2])/max_value\n",
    "#x[3]= binatodeci(individuos[ind_mini,:,3])\n",
    "#x[3]= x[3]/max_value\n",
    "#x[4]= binatodeci(individuos[ind_mini,:,4])\n",
    "#x[4] = ((0.2-(0.6*x[3]))/max_value)\n",
    "print(x)\n",
    "est_lag=x[0] + x[1]*(1-np.exp(-(pve.iloc[:,0]**2/x[2]**2)))\n",
    "error_variogram=np.sqrt(1/len(est_lag)*np.sum((est_lag-pve.iloc[:,1])**2))\n",
    "error_z,error_variance = calculo_z(distancias,indices,dc,Z,ZA,Ve,h,x[0],x[1],x[2])\n",
    "print(error_variogram,error_z,error_variance)"
   ]
  },
  {
   "cell_type": "code",
   "execution_count": 187,
   "id": "8fbc7bf0",
   "metadata": {
    "scrolled": true
   },
   "outputs": [
    {
     "data": {
      "image/png": "[encoded data removed]",
      "text/plain": [
       "<Figure size 640x480 with 1 Axes>"
      ]
     },
     "metadata": {},
     "output_type": "display_data"
    },
    {
     "name": "stdout",
     "output_type": "stream",
     "text": [
      "[0.00000000e+00 1.01118224e+01 2.02236447e+01 ... 5.05287764e+04\n",
      " 5.05388882e+04 5.05490000e+04]\n",
      "100283209.16976562\n"
     ]
    }
   ],
   "source": [
    "h=np.linspace(0,50549,5000)\n",
    "b=  x[0] + x[1]*(1-np.exp(-(h**2/x[2]**2)))\n",
    "plt.scatter(pve.iloc[:,0],pve.iloc[:,1])\n",
    "plt.plot(h,b)\n",
    "plt.show()\n",
    "print(h)\n",
    "me= x[0] + x[1]*(1-np.exp(-(pve.iloc[:,0]**2/x[2]**2)))\n",
    "svar = pve.iloc[:,1]\n",
    "error = 1/len(svar)*np.sum((svar-me)**2)\n",
    "print(error)"
   ]
  },
  {
   "cell_type": "code",
   "execution_count": 73,
   "id": "ff4f8683",
   "metadata": {},
   "outputs": [
    {
     "data": {
      "text/plain": [
       "[<matplotlib.lines.Line2D at 0x2af336da520>]"
      ]
     },
     "execution_count": 73,
     "metadata": {},
     "output_type": "execute_result"
    },
    {
     "data": {
      "image/png": "[encoded data removed]",
      "text/plain": [
       "<Figure size 640x480 with 1 Axes>"
      ]
     },
     "metadata": {},
     "output_type": "display_data"
    }
   ],
   "source": [
    "plt.plot(history)"
   ]
  },
  {
   "cell_type": "code",
   "execution_count": 74,
   "id": "90dfa9f8-1d12-4b6d-b5f5-bf3537f23946",
   "metadata": {},
   "outputs": [
    {
     "data": {
      "text/plain": [
       "[<matplotlib.lines.Line2D at 0x2af336ac5b0>]"
      ]
     },
     "execution_count": 74,
     "metadata": {},
     "output_type": "execute_result"
    },
    {
     "data": {
      "image/png": "[encoded data removed]",
      "text/plain": [
       "<Figure size 640x480 with 1 Axes>"
      ]
     },
     "metadata": {},
     "output_type": "display_data"
    }
   ],
   "source": [
    "plt.plot(history_z)"
   ]
  },
  {
   "cell_type": "code",
   "execution_count": 35,
   "id": "a09e8c3b-ddea-4ef4-92bb-73b781a58c3c",
   "metadata": {},
   "outputs": [],
   "source": [
    "max_value=(2**nbits-1)"
   ]
  },
  {
   "cell_type": "code",
   "execution_count": 36,
   "id": "be56d4c6-c8d4-4e04-93a7-6b790e1840ee",
   "metadata": {},
   "outputs": [],
   "source": [
    "history1=history\n",
    "history_z1=history\n",
    "x=np.zeros((3,))\n",
    "x[1]=binatodeci(individuos[ind_mini,:,1])\n",
    "x[1]= ((vardatos-0)*x[1])/max_value\n",
    "x[0]= binatodeci(individuos[ind_mini,:,0])\n",
    "x[0]= ((x[1]-0)*x[0])/max_value\n",
    "x[2]=binatodeci(individuos[ind_mini,:,2])\n",
    "x[2]= (((dmax/2)-0)*x[2])/max_value\n",
    "xr=x"
   ]
  },
  {
   "cell_type": "code",
   "execution_count": 140,
   "id": "4cc3bf9c-0679-4f66-be42-d9d0e68918d0",
   "metadata": {},
   "outputs": [
    {
     "name": "stdout",
     "output_type": "stream",
     "text": [
      "[  62.48699836   97.59125031 3382.23860317]\n"
     ]
    }
   ],
   "source": [
    "print(xr)"
   ]
  },
  {
   "cell_type": "code",
   "execution_count": null,
   "id": "5561db74-4f09-4040-b118-33cbf1155f37",
   "metadata": {},
   "outputs": [],
   "source": []
  }
 ],
 "metadata": {
  "kernelspec": {
   "display_name": "Python 3 (ipykernel)",
   "language": "python",
   "name": "python3"
  },
  "language_info": {
   "codemirror_mode": {
    "name": "ipython",
    "version": 3
   },
   "file_extension": ".py",
   "mimetype": "text/x-python",
   "name": "python",
   "nbconvert_exporter": "python",
   "pygments_lexer": "ipython3",
   "version": "3.9.15"
  }
 },
 "nbformat": 4,
 "nbformat_minor": 5
}
